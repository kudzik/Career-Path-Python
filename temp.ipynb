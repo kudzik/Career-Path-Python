{
 "cells": [
  {
   "cell_type": "code",
   "execution_count": null,
   "metadata": {},
   "outputs": [],
   "source": [
    "class Template:\n",
    "    pass\n",
    "\n",
    "\n",
    "template = Template()\n",
    "\n",
    "isinstance(template, Template)"
   ]
  },
  {
   "cell_type": "code",
   "execution_count": null,
   "metadata": {},
   "outputs": [],
   "source": [
    "import requests\n",
    "from bs4 import BeautifulSoup\n",
    "\n",
    "# Zdefiniuj URL strony, którą chcesz scrapować\n",
    "url = \"https://aibit.pl/\"\n",
    "\n",
    "# Wykonaj żądanie HTTP i pobierz zawartość strony\n",
    "response = requests.get(url)\n",
    "soup = BeautifulSoup(response.content, 'html.parser')\n",
    "\n",
    "# Znajdź wszystkie nagłówki h2 na stronie\n",
    "h2_tags = soup.find_all('h2')\n",
    "\n",
    "# Wypisz tekst każdego nagłówka\n",
    "for h2 in h2_tags:\n",
    "    print(h2.text.strip())\n",
    "\n",
    "links = soup.find_all('a')\n",
    "\n",
    "# Stwórz słownik, aby przechowywać linki i ich tekst\n",
    "link_data = {}\n",
    "for link in links:\n",
    "    link_data[link.text] = link.get('href')\n",
    "\n",
    "\n",
    "print(link_data)"
   ]
  }
 ],
 "metadata": {
  "kernelspec": {
   "display_name": ".venv",
   "language": "python",
   "name": "python3"
  },
  "language_info": {
   "codemirror_mode": {
    "name": "ipython",
    "version": 3
   },
   "file_extension": ".py",
   "mimetype": "text/x-python",
   "name": "python",
   "nbconvert_exporter": "python",
   "pygments_lexer": "ipython3",
   "version": "3.12.4"
  }
 },
 "nbformat": 4,
 "nbformat_minor": 2
}
