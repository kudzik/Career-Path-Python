{
 "cells": [
  {
   "cell_type": "markdown",
   "metadata": {},
   "source": [
    "# Kontrola przepływu w Pythonie\n",
    "\n",
    "## [Kontrola przepływu](../../Teoria/Kontrola%20przeplywu/Kontrola%20Przeplywu.md)\n",
    "\n",
    "## Zadania"
   ]
  },
  {
   "cell_type": "code",
   "execution_count": 1,
   "metadata": {},
   "outputs": [
    {
     "name": "stdout",
     "output_type": "stream",
     "text": [
      "5\n",
      "10\n"
     ]
    }
   ],
   "source": [
    "def zewnetrzna():\n",
    "    y = 5  # Zmienna w zakresie zamkniętym\n",
    "\n",
    "    def wewnetrzna():\n",
    "        nonlocal y  # Deklaracja, że używamy zmiennej y z zakresu zamkniętego\n",
    "        y = 10  # Modyfikacja zmiennej z zakresu zamkniętego\n",
    "\n",
    "    print(y)  # Output: 5\n",
    "    wewnetrzna()\n",
    "    print(y)  # Output: 10\n",
    "\n",
    "\n",
    "\"\"\"\n",
    "Calls the `\n",
    "\"\"\"\n",
    "Calls the `\n",
    "zewnetrzna()"
   ]
  }
 ],
 "metadata": {
  "kernelspec": {
   "display_name": ".venv",
   "language": "python",
   "name": "python3"
  },
  "language_info": {
   "codemirror_mode": {
    "name": "ipython",
    "version": 3
   },
   "file_extension": ".py",
   "mimetype": "text/x-python",
   "name": "python",
   "nbconvert_exporter": "python",
   "pygments_lexer": "ipython3",
   "version": "3.12.4"
  }
 },
 "nbformat": 4,
 "nbformat_minor": 2
}
