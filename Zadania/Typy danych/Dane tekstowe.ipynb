{
 "cells": [
  {
   "cell_type": "markdown",
   "metadata": {},
   "source": [
    "# Dane tekstowe\n",
    "\n",
    "## [Dane tekstowe](../../Teoria/Typy%20danych/Dane%20tekstowe.md)\n",
    "\n",
    "## Zadania"
   ]
  },
  {
   "cell_type": "code",
   "execution_count": 3,
   "metadata": {},
   "outputs": [
    {
     "name": "stdout",
     "output_type": "stream",
     "text": [
      "Python is a popular programming language.\n"
     ]
    }
   ],
   "source": [
    "# Zadanie\n",
    "\n",
    "my_text = 'python is a popular programming language.'\n",
    "\n",
    "\"\"\"\n",
    "Zmień pierwszą literę na dużą\n",
    "\"\"\"\n",
    "my_text = my_text[0].upper() + my_text[1:]\n",
    "print(my_text)"
   ]
  },
  {
   "cell_type": "code",
   "execution_count": 5,
   "metadata": {},
   "outputs": [
    {
     "name": "stdout",
     "output_type": "stream",
     "text": [
      "The character 'p' occurs 4 times in the text.\n"
     ]
    }
   ],
   "source": [
    "# Zadanie\n",
    "\n",
    "my_text = 'python is a popular programming language.'\n",
    "\n",
    "\"\"\"\n",
    "Zlicz liczbę wystąpień litery p\n",
    "The character 'p' occurs 4 times in the text.\n",
    "\"\"\"\n",
    "\n",
    "p_count = my_text.count('p')\n",
    "print(f\"The character 'p' occurs {p_count} times in the text.\")"
   ]
  },
  {
   "cell_type": "code",
   "execution_count": 8,
   "metadata": {},
   "outputs": [
    {
     "name": "stdout",
     "output_type": "stream",
     "text": [
      "Does code1 end with '2024'? True\n",
      "Does code2 end with '2024'? False\n"
     ]
    }
   ],
   "source": [
    "# Zadanie\n",
    "\n",
    "code1 = 'FVNISJND-XX-2024'\n",
    "code2 = 'FVNISJND-XY-2023'\n",
    "\n",
    "\"\"\"\n",
    "Sprawdź czy zmienne kończą sie na '2024'\n",
    "Does code1 end with '2024'? True\n",
    "Does code2 end with '2024'? False\n",
    "\"\"\"\n",
    "\n",
    "print(f\"Does code1 end with '2024'? {code1.endswith('2024')}\")\n",
    "print(f\"Does code2 end with '2024'? {code2.endswith('2024')}\")"
   ]
  },
  {
   "cell_type": "code",
   "execution_count": 10,
   "metadata": {},
   "outputs": [
    {
     "name": "stdout",
     "output_type": "stream",
     "text": [
      "path1: True\n",
      "path2: False\n"
     ]
    }
   ],
   "source": [
    "# Zadanie\n",
    "\n",
    "path1 = 'youtube.com/watch?v=5EhRztVxums'\n",
    "path2 = 'google.com/search?q=car'\n",
    "\n",
    "\"\"\"\n",
    "Sprawdź czy domeną jest youtube\n",
    "\"\"\"\n",
    "\n",
    "print(f\"path1: {path1.startswith('youtube.com')}\")\n",
    "print(f\"path2: {path2.startswith('youtube.com')}\")"
   ]
  },
  {
   "cell_type": "code",
   "execution_count": 13,
   "metadata": {},
   "outputs": [
    {
     "name": "stdout",
     "output_type": "stream",
     "text": [
      "49\n",
      "49\n",
      "-1\n"
     ]
    }
   ],
   "source": [
    "# Zadanie\n",
    "\n",
    "base = 'https://e-smartdata.teachable.com/p/'\n",
    "path1 = base + 'sciezka-data-scientist-machine-learning-engineer'\n",
    "path2 = base + 'sciezka-data-scientist-deep-learning-engineer'\n",
    "path3 = base + 'sciezka-bi-analyst-data-analyst'\n",
    "\n",
    "\"\"\"\n",
    "Znajdź wyraz 'scientist' w podanych ścieżkach zwracając numer indeksu dla pierwszej litery odnalezionego wyrazu.\n",
    "\"\"\"\n",
    "\n",
    "print(f\"{path1.find('scientist')}\")\n",
    "print(f\"{path2.find('scientist')}\")\n",
    "print(f\"{path3.find('scientist')}\")"
   ]
  },
  {
   "cell_type": "code",
   "execution_count": 15,
   "metadata": {},
   "outputs": [
    {
     "name": "stdout",
     "output_type": "stream",
     "text": [
      "Is code1 alphanumeric? False\n",
      "Is code1 alphanumeric? True\n"
     ]
    }
   ],
   "source": [
    "# Zadanie\n",
    "\n",
    "code1 = 'FVNISJND-20'\n",
    "code2 = 'FVNISJND20'\n",
    "\n",
    "\"\"\"\n",
    "Sprawdź, czy podane kody składają się tylko ze znaków alfanumerycznych (cyfry + litery)\n",
    "Oczekiwany wynik\n",
    "Is code1 alphanumeric? False\n",
    "Is code2 alphanumeric? True\n",
    "\"\"\"\n",
    "\n",
    "print(f\"Is code1 alphanumeric? {code1.isalnum()}\")\n",
    "print(f\"Is code1 alphanumeric? {code2.isalnum()}\")"
   ]
  },
  {
   "cell_type": "code",
   "execution_count": 18,
   "metadata": {},
   "outputs": [
    {
     "name": "stdout",
     "output_type": "stream",
     "text": [
      "google colab\n",
      "GOOGLE COLAB\n"
     ]
    }
   ],
   "source": [
    "# Zadanie\n",
    "\n",
    "text = 'Google Colab'\n",
    "\n",
    "\"\"\"\n",
    "Zmień wszystkie litery na małe\n",
    "Zmień wszystkie litery na duże\n",
    "\"\"\"\n",
    "\n",
    "print(f\"{text.lower()}\")\n",
    "print(f\"{text.upper()}\")\n",
    "print(f\"{text.upper()}\")"
   ]
  },
  {
   "cell_type": "code",
   "execution_count": 19,
   "metadata": {},
   "outputs": [
    {
     "name": "stdout",
     "output_type": "stream",
     "text": [
      "Google Colab\n"
     ]
    }
   ],
   "source": [
    "# Zadanie\n",
    "\n",
    "text = ' Google Colab '\n",
    "\"\"\"\n",
    "Usuń białe znaki\n",
    "\"\"\"\n",
    "\n",
    "print(f\"{text.strip()}\")"
   ]
  },
  {
   "cell_type": "code",
   "execution_count": 21,
   "metadata": {},
   "outputs": [
    {
     "name": "stdout",
     "output_type": "stream",
     "text": [
      "FVNISJND XX\n",
      "FVNISJNDXX\n"
     ]
    }
   ],
   "source": [
    "# Zadanie\n",
    "\n",
    "code = 'FVNISJND-XX'\n",
    "\n",
    "# Zmień myślnik na spację\n",
    "\n",
    "print(code.replace('-', ' '))\n",
    "\n",
    "# usuń '-'\n",
    "\n",
    "print(code.replace('-', ''))"
   ]
  },
  {
   "cell_type": "code",
   "execution_count": 22,
   "metadata": {},
   "outputs": [
    {
     "name": "stdout",
     "output_type": "stream",
     "text": [
      "['Open', 'High', 'Low', 'Close']\n"
     ]
    }
   ],
   "source": [
    "text = 'Open,High,Low,Close'\n",
    "\n",
    "\"\"\"\n",
    "oczekiwany wynik:\n",
    "['Open', 'High', 'Low', 'Close']\n",
    "\"\"\"\n",
    "\n",
    "print(f\"{text.split(',')}\")"
   ]
  },
  {
   "cell_type": "code",
   "execution_count": 25,
   "metadata": {},
   "outputs": [
    {
     "name": "stdout",
     "output_type": "stream",
     "text": [
      "['Python is a general purpose language.', 'Python is popular.']\n"
     ]
    }
   ],
   "source": [
    "text = \"\"\"Python is a general purpose language.\n",
    "Python is popular.\"\"\"\n",
    "\n",
    "print(f\"{text.splitlines()}\")"
   ]
  },
  {
   "cell_type": "code",
   "execution_count": 27,
   "metadata": {},
   "outputs": [
    {
     "name": "stdout",
     "output_type": "stream",
     "text": [
      "000034\n"
     ]
    }
   ],
   "source": [
    "# Zadanie\n",
    "\n",
    "num = 34\n",
    "\n",
    "\"\"\"\n",
    "Oczekiwany wynik:\n",
    "'000034'\n",
    "\"\"\"\n",
    "\n",
    "print(f\"{num:06}\")"
   ]
  }
 ],
 "metadata": {
  "kernelspec": {
   "display_name": ".venv",
   "language": "python",
   "name": "python3"
  },
  "language_info": {
   "codemirror_mode": {
    "name": "ipython",
    "version": 3
   },
   "file_extension": ".py",
   "mimetype": "text/x-python",
   "name": "python",
   "nbconvert_exporter": "python",
   "pygments_lexer": "ipython3",
   "version": "3.12.4"
  }
 },
 "nbformat": 4,
 "nbformat_minor": 2
}
