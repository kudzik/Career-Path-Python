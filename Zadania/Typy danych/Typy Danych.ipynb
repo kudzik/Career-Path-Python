{
 "cells": [
  {
   "cell_type": "markdown",
   "metadata": {},
   "source": [
    "# Typy Danych\n",
    "\n",
    "## [Typy Danych](../../Teoria/Typy%20danych/Typy%20danych.md)\n",
    "\n",
    "## Zadania"
   ]
  },
  {
   "cell_type": "code",
   "execution_count": 1,
   "metadata": {},
   "outputs": [
    {
     "name": "stdout",
     "output_type": "stream",
     "text": [
      "The type of empty_str variable is: <class 'str'>\n",
      "The type of space_str variable is: <class 'str'>\n",
      "The type of new_line_str variable is: <class 'str'>\n"
     ]
    }
   ],
   "source": [
    "# Zadanie\n",
    "\n",
    "empty_str = ''\n",
    "space_str = ' '\n",
    "new_line_str = '\\n'\n",
    "\n",
    "\"\"\"\n",
    "Oczekiwany wynik:\n",
    "The type of empty_str variable is: <class 'str'>\n",
    "The type of space_str variable is: <class 'str'>\n",
    "The type of new_line_str variable is: <class 'str'>\n",
    "\"\"\"\n",
    "\n",
    "print(f\"The type of empty_str variable is: {type(empty_str)}\")\n",
    "print(f\"The type of space_str variable is: {type(space_str)}\")\n",
    "print(f\"The type of new_line_str variable is: {type(new_line_str)}\")"
   ]
  },
  {
   "cell_type": "code",
   "execution_count": 2,
   "metadata": {},
   "outputs": [
    {
     "name": "stdout",
     "output_type": "stream",
     "text": [
      "The type of none_var is: <class 'NoneType'>\n",
      "The type of bool_var1 variable is: <class 'bool'>\n",
      "The type of bool_var2 variable is: <class 'bool'>\n"
     ]
    }
   ],
   "source": [
    "# Zadanie\n",
    "\n",
    "none_var = None\n",
    "bool_var1 = False\n",
    "bool_var2 = True\n",
    "\n",
    "\"\"\"\n",
    "Oczekiwany wynik:\n",
    "The type of none_var is: <class 'NoneType'>\n",
    "The type of bool_var1 variable is: <class 'bool'>\n",
    "The type of bool_var2 variable is: <class 'bool'>\n",
    "\"\"\"\n",
    "\n",
    "print(f\"The type of none_var is: {type(none_var)}\")\n",
    "print(f\"The type of bool_var1 variable is: {type(bool_var1)}\")\n",
    "print(f\"The type of bool_var2 variable is: {type(bool_var2)}\")"
   ]
  },
  {
   "cell_type": "code",
   "execution_count": 4,
   "metadata": {},
   "outputs": [
    {
     "name": "stdout",
     "output_type": "stream",
     "text": [
      "The variable is of boolean type: True\n"
     ]
    }
   ],
   "source": [
    "my_flag = False\n",
    "\n",
    "\"\"\"\n",
    "The variable is of boolean type: True\n",
    "\"\"\"\n",
    "\n",
    "res = isinstance(my_flag, bool)\n",
    "print(f\"The variable is of boolean type: {res}\")"
   ]
  },
  {
   "cell_type": "code",
   "execution_count": 7,
   "metadata": {},
   "outputs": [
    {
     "name": "stdout",
     "output_type": "stream",
     "text": [
      "<class 'list'>\n",
      "<class 'str'>\n",
      "<class 'list'>\n",
      "<class 'str'>\n",
      "<class 'int'>\n"
     ]
    }
   ],
   "source": [
    "followers = ['john', 'jane', 'jacob', 'jessica', 'jenny']\n",
    "profile_picture = 'https://example.com/profile.jpg'\n",
    "post_ids = [1, 2, 3, 4, 5]\n",
    "bio = 'Travel enthusiast | Photographer | Nature lover'\n",
    "timestamp = 1649499360\n",
    "\n",
    "\"\"\"\n",
    "Oczekiwany wynik:\n",
    "<class 'list'>\n",
    "<class 'str'>\n",
    "<class 'list'>\n",
    "<class 'str'>\n",
    "<class 'int'>\n",
    "\"\"\"\n",
    "\n",
    "print(f\"{type(followers)}\")\n",
    "print(f\"{type(profile_picture)}\")\n",
    "print(f\"{type(post_ids)}\")\n",
    "print(f\"{type(bio)}\")\n",
    "print(f\"{type(timestamp)}\")"
   ]
  },
  {
   "cell_type": "code",
   "execution_count": 8,
   "metadata": {},
   "outputs": [
    {
     "name": "stdout",
     "output_type": "stream",
     "text": [
      "False\n",
      "True\n",
      "True\n",
      "False\n",
      "False\n"
     ]
    }
   ],
   "source": [
    "followers = ['john', 'jane', 'jacob', 'jessica', 'jenny']\n",
    "profile_picture = 'https://example.com/profile.jpg'\n",
    "post_ids = [1, 2, 3, 4, 5]\n",
    "bio = 'Travel enthusiast | Photographer | Nature lover'\n",
    "timestamp = 1649499360\n",
    "\n",
    "# Enter your solution here\n",
    "\n",
    "print(isinstance(followers, tuple))\n",
    "print(isinstance(profile_picture, str))\n",
    "print(isinstance(post_ids, list))\n",
    "print(isinstance(bio, set))\n",
    "print(isinstance(timestamp, float))"
   ]
  }
 ],
 "metadata": {
  "kernelspec": {
   "display_name": ".venv",
   "language": "python",
   "name": "python3"
  },
  "language_info": {
   "codemirror_mode": {
    "name": "ipython",
    "version": 3
   },
   "file_extension": ".py",
   "mimetype": "text/x-python",
   "name": "python",
   "nbconvert_exporter": "python",
   "pygments_lexer": "ipython3",
   "version": "3.12.4"
  }
 },
 "nbformat": 4,
 "nbformat_minor": 2
}
