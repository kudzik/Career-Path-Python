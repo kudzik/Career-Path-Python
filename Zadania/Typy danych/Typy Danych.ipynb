{
 "cells": [
  {
   "cell_type": "markdown",
   "metadata": {},
   "source": [
    "# Typy Danych\n",
    "\n",
    "## [Typy Danych](../../Teoria/Typy%20danych.md)\n",
    "\n",
    "## Zadania"
   ]
  }
 ],
 "metadata": {
  "language_info": {
   "name": "python"
  }
 },
 "nbformat": 4,
 "nbformat_minor": 2
}
