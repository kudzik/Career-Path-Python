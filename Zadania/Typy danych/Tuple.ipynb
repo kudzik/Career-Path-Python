{
 "cells": [
  {
   "cell_type": "markdown",
   "metadata": {},
   "source": [
    "# Tuple\n",
    "\n",
    "## [Tuple](../../Teoria/Typy%20danych/Tuple.md)\n",
    "\n",
    "## Zadania"
   ]
  },
  {
   "cell_type": "code",
   "execution_count": 3,
   "metadata": {},
   "outputs": [
    {
     "name": "stdout",
     "output_type": "stream",
     "text": [
      "('apple', 'banana', 'cherry', 'pineapple')\n",
      "(('apple', 'banana'), ('cherry', 'pineapple'))\n"
     ]
    }
   ],
   "source": [
    "# Zadanie\n",
    "\n",
    "tuple_fruit = ('apple', 'banana')\n",
    "tuple_fruit2 = ('cherry', 'pineapple')\n",
    "\n",
    "concat_tuple = tuple_fruit + tuple_fruit2\n",
    "print(concat_tuple)\n",
    "\n",
    "# zagnieżdżony tuple\n",
    "\n",
    "nested_tuple = ((tuple_fruit), (tuple_fruit2))\n",
    "print(f\"{nested_tuple}\")"
   ]
  },
  {
   "cell_type": "code",
   "execution_count": 5,
   "metadata": {},
   "outputs": [
    {
     "name": "stdout",
     "output_type": "stream",
     "text": [
      "(('Kasia', 23), ('Tomek', 24), ('Ania', 21))\n"
     ]
    }
   ],
   "source": [
    "# zadanie\n",
    "\n",
    "tuple1 = ((\"Kasia\", 23), (\"Ania\", 21))\n",
    "\n",
    "# Wstaw (\"Tomek\", 24) w środek\n",
    "\n",
    "res_tuple = (tuple1[0], (\"Tomek\", 24), tuple1[1])\n",
    "print(f\"{res_tuple}\")"
   ]
  },
  {
   "cell_type": "code",
   "execution_count": 6,
   "metadata": {},
   "outputs": [
    {
     "name": "stdout",
     "output_type": "stream",
     "text": [
      "3\n"
     ]
    }
   ],
   "source": [
    "# zadamie\n",
    "\n",
    "extended_code = (\"UP\", \"DOWN\", \"DOWN\", \"LEFT\", \"DOWN\")\n",
    "\n",
    "# Podaj liczbę wystąpień DOWN\n",
    "\n",
    "res = extended_code.count(\"DOWN\")\n",
    "print(res)"
   ]
  },
  {
   "cell_type": "code",
   "execution_count": 9,
   "metadata": {},
   "outputs": [
    {
     "name": "stdout",
     "output_type": "stream",
     "text": [
      "('Ania', 'Kasia', 'Tomek')\n"
     ]
    }
   ],
   "source": [
    "# Zadanie\n",
    "\n",
    "tuple_person = ('Kasia', 'Ania', 'Tomek')\n",
    "\n",
    "# Posortuj\n",
    "\n",
    "res = tuple(sorted(tuple_person))\n",
    "print(res)"
   ]
  },
  {
   "cell_type": "code",
   "execution_count": 11,
   "metadata": {},
   "outputs": [
    {
     "name": "stdout",
     "output_type": "stream",
     "text": [
      "[('Ania', 21), ('Kasia', 23), ('Tomek', 24), ('Marian', 30)]\n",
      "[('Marian', 30), ('Tomek', 24), ('Kasia', 23), ('Ania', 21)]\n"
     ]
    }
   ],
   "source": [
    "tuple1 = ((\"Kasia\", 23), (\"Ania\", 21), (\"Tomek\", 24), (\"Marian\", 30))\n",
    "\n",
    "# posortuj po wieku\n",
    "\n",
    "sorted_by_age = sorted(tuple1, key=lambda x: x[1])\n",
    "print(sorted_by_age)\n",
    "\n",
    "sorted_by_age_reverse = sorted(tuple1, key=lambda x: x[1], reverse=True)\n",
    "print(sorted_by_age_reverse)"
   ]
  },
  {
   "cell_type": "code",
   "execution_count": 14,
   "metadata": {},
   "outputs": [
    {
     "name": "stdout",
     "output_type": "stream",
     "text": [
      "EA\n"
     ]
    }
   ],
   "source": [
    "stocks = [\n",
    "    ('EA Games', ('EA', 250)),\n",
    "    ('Ubisoft', ('UBI', 290)),\n",
    "    ('Konami', ('KNG', 230)),\n",
    "]\n",
    "\n",
    "# Wytnij EA\n",
    "\n",
    "print(stocks[0][1][0])"
   ]
  }
 ],
 "metadata": {
  "kernelspec": {
   "display_name": ".venv",
   "language": "python",
   "name": "python3"
  },
  "language_info": {
   "codemirror_mode": {
    "name": "ipython",
    "version": 3
   },
   "file_extension": ".py",
   "mimetype": "text/x-python",
   "name": "python",
   "nbconvert_exporter": "python",
   "pygments_lexer": "ipython3",
   "version": "3.12.4"
  }
 },
 "nbformat": 4,
 "nbformat_minor": 2
}
