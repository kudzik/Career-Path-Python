{
 "cells": [
  {
   "cell_type": "markdown",
   "metadata": {},
   "source": [
    "# Zbiory\n",
    "\n",
    "## [Zbiory](../../Teoria/Typy%20danych/Zbiory.md)\n",
    "\n",
    "## Zadania"
   ]
  },
  {
   "cell_type": "code",
   "execution_count": 1,
   "metadata": {},
   "outputs": [
    {
     "name": "stdout",
     "output_type": "stream",
     "text": [
      "{'Physics', 'History', 'Math', 'CompSci', 'Polish'}\n"
     ]
    }
   ],
   "source": [
    "# Zadanie\n",
    "\n",
    "subjects = {'History', 'Math', 'Physics', 'CompSci'}\n",
    "\n",
    "# Dodaj 'polish' do zestawu przedmiów\n",
    "subjects.add('Polish')\n",
    "print(subjects)"
   ]
  },
  {
   "cell_type": "code",
   "execution_count": 2,
   "metadata": {},
   "outputs": [
    {
     "name": "stdout",
     "output_type": "stream",
     "text": [
      "{2, 6, 8, 10}\n"
     ]
    }
   ],
   "source": [
    "# Zadanie\n",
    "\n",
    "set_A = {2, 4, 6, 8}\n",
    "set_B = {4, 10}\n",
    "\n",
    "# Wyznacz różnicę symetryczną zbiorów\n",
    "\n",
    "res = set_A.symmetric_difference(set_B)\n",
    "print(f\"{res}\")"
   ]
  },
  {
   "cell_type": "code",
   "execution_count": 1,
   "metadata": {},
   "outputs": [
    {
     "name": "stdout",
     "output_type": "stream",
     "text": [
      "{'001', '007'}\n"
     ]
    }
   ],
   "source": [
    "# Zadanie\n",
    "\n",
    "ad1_ids = {'001', '002', '003'}\n",
    "ad2_ids = {'002', '003', '007'}\n",
    "\n",
    "# wydrukuj oferty które pojawiły się tylko jeden raz\n",
    "\n",
    "res = ad1_ids.symmetric_difference(ad2_ids)\n",
    "print(f\"{res}\")"
   ]
  },
  {
   "cell_type": "code",
   "execution_count": 2,
   "metadata": {},
   "outputs": [
    {
     "name": "stdout",
     "output_type": "stream",
     "text": [
      "Customer IDs: {'9005', '9002'}\n"
     ]
    }
   ],
   "source": [
    "# Zadanie\n",
    "\n",
    "clicked_ids = {'9001', '9002', '9005'}\n",
    "bought_ids = {'9002', '9004', '9005'}\n",
    "\n",
    "# wydrukuj oferty wspólne\n",
    "\n",
    "print(f\"Customer IDs: {clicked_ids.intersection(bought_ids)}\")"
   ]
  }
 ],
 "metadata": {
  "kernelspec": {
   "display_name": ".venv",
   "language": "python",
   "name": "python3"
  },
  "language_info": {
   "codemirror_mode": {
    "name": "ipython",
    "version": 3
   },
   "file_extension": ".py",
   "mimetype": "text/x-python",
   "name": "python",
   "nbconvert_exporter": "python",
   "pygments_lexer": "ipython3",
   "version": "3.12.4"
  }
 },
 "nbformat": 4,
 "nbformat_minor": 2
}
