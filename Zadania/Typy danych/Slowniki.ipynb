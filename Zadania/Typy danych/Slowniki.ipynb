{
 "cells": [
  {
   "cell_type": "markdown",
   "metadata": {},
   "source": [
    "# Słowniki\n",
    "\n",
    "## [Słowniki](../../Teoria/Typy%20danych/Slowniki.md)\n",
    "\n",
    "## Zadania"
   ]
  },
  {
   "cell_type": "code",
   "execution_count": null,
   "metadata": {},
   "outputs": [],
   "source": [
    "# Zadanie\n",
    "\n",
    "country_dict = {'Poland': 'Warsaw', 'Germany': 'Berlin', 'France': 'Paris'}\n",
    "\n",
    "# Wypisz klucze do konsoli\n",
    "\n",
    "print(f\"{country_dict.keys()}\")\n",
    "\n",
    "# wypisz wartości do konsoli\n",
    "\n",
    "print(f\"{country_dict.values()}\")\n",
    "\n",
    "# Wypisz wszystkie pary klucz-wartość do konsoli\n",
    "\n",
    "print(f\"{country_dict.items()}\")\n",
    "\n",
    "# Używając metody dict.get() wydobądź wartość dla klucza 'Poland'. Wynik wydrukuj do konsoli.\n",
    "\n",
    "print(f\"{country_dict.get('Poland')}\")"
   ]
  },
  {
   "cell_type": "code",
   "execution_count": null,
   "metadata": {},
   "outputs": [],
   "source": [
    "stocks = {\n",
    "    'AAPL': {'Apple Inc': 100},\n",
    "    'MSFT': {'Microsoft Corporation': 200},\n",
    "    'GOOG': {'Alphabet Inc': 300}\n",
    "}\n",
    "\n",
    "# Korzystając z operatora wycinania wyodrębnij wartość dla klucza 'MSFT'. Wynik wydrukuj do konsoli.\n",
    "print(f\"{stocks.get('MSFT')}\")\n",
    "\n",
    "# Wyodrębnij cenę\n",
    "# print(f\"{stocks.get('MSFT').get('Microsoft Corporation')}\")\n",
    "print(f\"{stocks['MSFT']['Microsoft Corporation']}\")\n",
    "\n",
    "# Zaktualizuj cenę na wartość 250. Wpisz do konsoli.\n",
    "stocks['MSFT']['Microsoft Corporation'] = 250\n",
    "print(f\"{stocks['MSFT']['Microsoft Corporation']}\")\n",
    "\n",
    "# Dodaj koleją wartość do słownika\n",
    "stocks['CDR'] = {'CD Projekt': 230}\n",
    "\n",
    "print(stocks.items())"
   ]
  },
  {
   "cell_type": "code",
   "execution_count": 1,
   "metadata": {},
   "outputs": [
    {
     "name": "stdout",
     "output_type": "stream",
     "text": [
      "[(0, 'GOOG'), (1, 'AAPL'), (2, 'MSFT'), (3, 'AMZN')]\n"
     ]
    }
   ],
   "source": [
    "ticker = ['GOOG', 'AAPL', 'MSFT', 'AMZN']\n",
    "\n",
    "# Przekształć tę listę w listę składającą się z dwuelementowych obiektów typu tuple (indeks, ticker). Wynik wydrukuj do konsoli.\n",
    "result = [(i, ticker[i]) for i in range(len(ticker))]\n",
    "\n",
    "print(result)"
   ]
  },
  {
   "cell_type": "code",
   "execution_count": 6,
   "metadata": {},
   "outputs": [
    {
     "name": "stdout",
     "output_type": "stream",
     "text": [
      "{0: 'GOOG', 1: 'AAPL', 2: 'MSFT', 3: 'AMZN'}\n"
     ]
    }
   ],
   "source": [
    "ticker = ['GOOG', 'AAPL', 'MSFT', 'AMZN']\n",
    "\n",
    "# Przekształć tę listę w słownik (indeks, ticker).  Wynik wydrukuj do konsoli.\n",
    "result = {i: ticker[i] for i in range(len(ticker))}\n",
    "\n",
    "print(result)"
   ]
  },
  {
   "cell_type": "code",
   "execution_count": 17,
   "metadata": {},
   "outputs": [
    {
     "name": "stdout",
     "output_type": "stream",
     "text": [
      "['completed', 'in progress', 'open']\n"
     ]
    }
   ],
   "source": [
    "project_ids = {\n",
    "    '01': 'open',\n",
    "    '03': 'in progress',\n",
    "    '05': 'in progress',\n",
    "    '04': 'completed'\n",
    "}\n",
    "\n",
    "# Znajdź posortowaną od a do z listę unikalnych wartości, które występują w słowniku. Wynik wydrukuj do konsoli.\n",
    "# ['completed', 'in progress', 'open']\n",
    "\n",
    "result = sorted(set([i for i in project_ids.values()]))\n",
    "print(result)"
   ]
  },
  {
   "cell_type": "code",
   "execution_count": 21,
   "metadata": {},
   "outputs": [
    {
     "name": "stdout",
     "output_type": "stream",
     "text": [
      "{'website': 'google.com', 'port': 80}\n"
     ]
    }
   ],
   "source": [
    "stats = {'website': 'google.com', 'ip': '244.178.44.111', 'port': 80}\n",
    "# Usuń z tego słownika parę dla klucza 'ip'. W odpowiedzi pozostały słownik wydrukuj do konsoli.\n",
    "\n",
    "# del stats['ip']\n",
    "stats.pop('ip')\n",
    "print(stats)"
   ]
  },
  {
   "cell_type": "code",
   "execution_count": 24,
   "metadata": {},
   "outputs": [
    {
     "name": "stdout",
     "output_type": "stream",
     "text": [
      "undefined\n"
     ]
    }
   ],
   "source": [
    "users = {'001': 'John', '002': 'Jane', '003': 'Bob'}\n",
    "# Użyj metody, która w momencie próby odczytu wartości dla klucza, który nie występuje w słowniku\n",
    "# nie podnosi błędu KeyError tylko zwraca wartość domyślną 'undefined'.\n",
    "# W odpowiedzi wydrukuj wartość dla klucza '004'.\n",
    "\n",
    "print(users.get(\"004\", 'undefined'))"
   ]
  },
  {
   "cell_type": "code",
   "execution_count": 30,
   "metadata": {},
   "outputs": [
    {
     "name": "stdout",
     "output_type": "stream",
     "text": [
      "{'name': 'Bob Johnson', 'age': 30, 'location': 'New York', 'interests': ['programming', 'sailing', 'hiking', 'travel']}\n"
     ]
    }
   ],
   "source": [
    "profile = {\n",
    "    'name': 'Bob Johnson',\n",
    "    'age': 30,\n",
    "    'location': 'Sydney',\n",
    "    'interests': ['programming', 'sailing', 'hiking'],\n",
    "}\n",
    "\n",
    "# Zaktualizuj wartość dla klucza location na 'New York'\n",
    "\n",
    "profile.update({\"location\": \"New York\"})\n",
    "\n",
    "# do listy dla klucza 'interests' dodaj wartość 'travel'\n",
    "\n",
    "profile[\"interests\"].append(\"travel\")\n",
    "\n",
    "print(profile)"
   ]
  },
  {
   "cell_type": "code",
   "execution_count": 46,
   "metadata": {},
   "outputs": [
    {
     "name": "stdout",
     "output_type": "stream",
     "text": [
      "Destination: Paris, France\n",
      "Duration: 10 days\n",
      "Budget: $1500\n",
      "Number of activities: 4\n"
     ]
    }
   ],
   "source": [
    "itinerary = {\n",
    "    'destination': 'Paris, France',\n",
    "    'duration': 7,\n",
    "    'budget': 1500,\n",
    "    'activities': [\n",
    "        'Visit the Eiffel Tower',\n",
    "        'Explore the Louvre',\n",
    "        'Take a Seine River Cruise',\n",
    "    ],\n",
    "}\n",
    "\n",
    "# dla klucza 'duration' ustaw nową wartość 10\n",
    "# do listy dla klucza 'activities' dodaj 'Visit the Palace of Versailles'\n",
    "# dodaj nową parę 'accommodation': 'Hotel'\n",
    "\n",
    "itinerary['duration'] = 10\n",
    "itinerary['activities'].append('Visit the Palace of Versailles')\n",
    "itinerary.update({'accommodation': 'Hotel'})\n",
    "\n",
    "print(f\"Destination: {itinerary['destination']}\")\n",
    "print(f\"Duration: {itinerary['duration']} days\")\n",
    "print(f\"Budget: ${itinerary['budget']}\")\n",
    "print(f\"Number of activities: {len(itinerary['activities'])}\")\n",
    "\n",
    "# Destination: Paris, France\n",
    "# Duration: 10 days\n",
    "# Budget: $1500\n",
    "# Number of activities: 4"
   ]
  }
 ],
 "metadata": {
  "kernelspec": {
   "display_name": ".venv",
   "language": "python",
   "name": "python3"
  },
  "language_info": {
   "codemirror_mode": {
    "name": "ipython",
    "version": 3
   },
   "file_extension": ".py",
   "mimetype": "text/x-python",
   "name": "python",
   "nbconvert_exporter": "python",
   "pygments_lexer": "ipython3",
   "version": "3.12.4"
  }
 },
 "nbformat": 4,
 "nbformat_minor": 2
}
