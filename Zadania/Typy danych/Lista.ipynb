{
 "cells": [
  {
   "cell_type": "markdown",
   "metadata": {},
   "source": [
    "# Listy\n",
    "\n",
    "## [Listy](../../Teoria/Typy%20danych/Lista.md)\n",
    "\n",
    "## Zadania"
   ]
  },
  {
   "cell_type": "code",
   "execution_count": 4,
   "metadata": {},
   "outputs": [
    {
     "name": "stdout",
     "output_type": "stream",
     "text": [
      "['New York', 'London', 'Istanbul', 'Seoul', 'Sydney']\n"
     ]
    }
   ],
   "source": [
    "# Zadanie\n",
    "\n",
    "cities = ['New York', 'London', 'Istanbul', 'Seoul']\n",
    "\n",
    "# Dodaj na koniec listy 'Sydney'.\n",
    "cities.append('Sydney')\n",
    "print(cities)"
   ]
  },
  {
   "cell_type": "code",
   "execution_count": 9,
   "metadata": {},
   "outputs": [
    {
     "name": "stdout",
     "output_type": "stream",
     "text": [
      "4\n"
     ]
    }
   ],
   "source": [
    "# Zadanie\n",
    "\n",
    "repeat_list = [1, 2, 1, 3, 4, 1, 3, 5, 1, 2]\n",
    "\n",
    "# Zlicz wystąpienia elementu 1\n",
    "\n",
    "print(repeat_list.count(1))"
   ]
  },
  {
   "cell_type": "code",
   "execution_count": 14,
   "metadata": {},
   "outputs": [
    {
     "name": "stdout",
     "output_type": "stream",
     "text": [
      "['a', 'e', 'g', 'h', 'i', 'j', 'k', 'm', 'n', 'o']\n"
     ]
    }
   ],
   "source": [
    "# Zadanie\n",
    "text = 'Programowanie w języku Python'\n",
    "# Enter your solution here\n",
    "\n",
    "text = text.replace('ę', 'e').replace(' ', '').lower()\n",
    "text = set(text)\n",
    "text = sorted(text)\n",
    "\n",
    "text = text[0:10]\n",
    "print(text)"
   ]
  },
  {
   "cell_type": "code",
   "execution_count": 16,
   "metadata": {},
   "outputs": [
    {
     "name": "stdout",
     "output_type": "stream",
     "text": [
      "['Warszawa', 'New York', 'London', 'Seoul']\n"
     ]
    }
   ],
   "source": [
    "# Zadanie\n",
    "list_cities = ['New York', 'London', 'Istanbul', 'Seoul']\n",
    "\n",
    "# Dodaj warszawe na poczatek listy\n",
    "\n",
    "list_cities.insert(0, 'Warszawa')\n",
    "list_cities.remove('Istanbul')\n",
    "print(list_cities)"
   ]
  },
  {
   "cell_type": "code",
   "execution_count": 17,
   "metadata": {},
   "outputs": [
    {
     "name": "stdout",
     "output_type": "stream",
     "text": [
      "['CSS', 'HTML', 'JavaScript', 'PHP', 'Python']\n"
     ]
    }
   ],
   "source": [
    "# Zadanie\n",
    "list_techs = ['HTML', 'CSS', 'JavaScript', 'Python', 'PHP']\n",
    "\n",
    "print(sorted(list_techs))"
   ]
  },
  {
   "cell_type": "code",
   "execution_count": 21,
   "metadata": {},
   "outputs": [
    {
     "name": "stdout",
     "output_type": "stream",
     "text": [
      "#apple#orange#banana#pineapple#pear\n"
     ]
    }
   ],
   "source": [
    "# Zadanie\n",
    "\n",
    "list_words = ['apple', 'orange', 'banana', 'pineapple', 'pear']\n",
    "\n",
    "# wynik = \"#apple#orange#banana#pineapple#pear\"\n",
    "\n",
    "print('#' + '#'.join(list_words))"
   ]
  },
  {
   "cell_type": "code",
   "execution_count": 30,
   "metadata": {},
   "outputs": [
    {
     "name": "stdout",
     "output_type": "stream",
     "text": [
      "[27, 21, 20]\n"
     ]
    }
   ],
   "source": [
    "scorers = [27, 8, 15, 2, 9, 10, 21, 4, 20, 5]\n",
    "# Enter your solution here\n",
    "sorted_list = sorted(scorers, reverse=True)\n",
    "\n",
    "print(sorted_list[:3])"
   ]
  },
  {
   "cell_type": "code",
   "execution_count": 1,
   "metadata": {},
   "outputs": [
    {
     "name": "stdout",
     "output_type": "stream",
     "text": [
      "['Ronaldo', 'Messi', 'Cristiano', 'Neymar', 'Mbappe', 'Ibrahimovic', 'Hazard']\n",
      "[27, 18, 22, 15, 27, 18]\n"
     ]
    }
   ],
   "source": [
    "players = ['Ronaldo', 'Messi', 'Cristiano', 'Neymar']\n",
    "scores = [27, 18, 22, 15]\n",
    "\n",
    "new_players = ['Mbappe', 'Ibrahimovic', 'Hazard']\n",
    "new_scores = [27, 18]\n",
    "\n",
    "# players.extend(new_players)\n",
    "# scores.extend(new_scores)\n",
    "\n",
    "print(players+new_players)\n",
    "print(scores+new_scores)"
   ]
  },
  {
   "cell_type": "code",
   "execution_count": 12,
   "metadata": {},
   "outputs": [
    {
     "name": "stdout",
     "output_type": "stream",
     "text": [
      "['Caesar Salad', 9.99, ['romaine lettuce', 'croutons', 'parmesan cheese', 'Caesar dressing'], 'olive oil']\n"
     ]
    }
   ],
   "source": []
  },
  {
   "cell_type": "markdown",
   "metadata": {},
   "source": [
    "\"['Ca[42 chars]outons', 'parmesan cheese', 'Caesar dressing', 'olive oil']]\\n\" != \"['Ca[42 chars]outons', 'parmesan cheese', 'Caesar dressing'], 'olive oil']\\n\"\n",
    "- ['Caesar Salad', 9.99, ['romaine lettuce', 'croutons', 'parmesan cheese', 'Caesar dressing', 'olive oil']]\n",
    "?                                                                                                          -\n",
    "+ ['Caesar Salad', 9.99, ['romaine lettuce', 'croutons', 'parmesan cheese', 'Caesar dressing'], 'olive oil']\n",
    "?  "
   ]
  }
 ],
 "metadata": {
  "kernelspec": {
   "display_name": ".venv",
   "language": "python",
   "name": "python3"
  },
  "language_info": {
   "codemirror_mode": {
    "name": "ipython",
    "version": 3
   },
   "file_extension": ".py",
   "mimetype": "text/x-python",
   "name": "python",
   "nbconvert_exporter": "python",
   "pygments_lexer": "ipython3",
   "version": "3.12.4"
  }
 },
 "nbformat": 4,
 "nbformat_minor": 2
}
