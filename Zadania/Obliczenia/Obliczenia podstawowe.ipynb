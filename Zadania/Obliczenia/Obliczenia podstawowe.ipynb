{
 "cells": [
  {
   "cell_type": "markdown",
   "metadata": {},
   "source": [
    "# Obliczenia podstawowe\n",
    "\n",
    "## Zadanie\n",
    "\n",
    "- Oblicz całkowity koszt i średni koszt "
   ]
  },
  {
   "cell_type": "code",
   "execution_count": 1,
   "metadata": {},
   "outputs": [
    {
     "name": "stdout",
     "output_type": "stream",
     "text": [
      "1000000\n",
      "10000.0\n"
     ]
    }
   ],
   "source": [
    "# Zmienne\n",
    "\n",
    "num_of_cars = 100\n",
    "num_of_parts = 1000\n",
    "cost_per_part = 10\n",
    "\n",
    "# Oblicz\n",
    "# Całkowity koszt\n",
    "# Średni koszt\n",
    "\n",
    "total_cost = num_of_cars * num_of_parts * cost_per_part\n",
    "average_cost = total_cost / num_of_cars\n",
    "print(total_cost)\n",
    "print(average_cost)"
   ]
  },
  {
   "cell_type": "markdown",
   "metadata": {},
   "source": [
    "## Zadanie \n",
    "\n",
    "- Oblicz całkowity przychód ze sprzedaży podanej ilości samochodów `total_revenue`\n",
    "- Oblicz marżę zysku ze sprzedaży uwzględniając wyliczony przychód i łączne poniesione koszty `profit_margin`\n"
   ]
  },
  {
   "cell_type": "code",
   "execution_count": 5,
   "metadata": {},
   "outputs": [
    {
     "name": "stdout",
     "output_type": "stream",
     "text": [
      "Całkowity koszt: 30000\n",
      "Total revenue: 100000\n",
      "Profit margin: 0.7000\n"
     ]
    }
   ],
   "source": [
    "num_of_cars = 200\n",
    "num_of_parts = 1500\n",
    "cost_per_part = 20\n",
    "profit_per_car = 500\n",
    "\n",
    "# Obliczenie całkowitego kosztu\n",
    "total_cost = num_of_parts * cost_per_part\n",
    "\n",
    "# Obliczenie całkowitego przychodu\n",
    "total_revenue = num_of_cars * profit_per_car\n",
    "\n",
    "# Obliczenie marży zysku\n",
    "profit_margin = (total_revenue - total_cost) / total_revenue\n",
    "\n",
    "# Wydrukowanie wyników\n",
    "print(f'Całkowity koszt: {total_cost}')\n",
    "print(f'Total revenue: {total_revenue}')\n",
    "print(f'Profit margin: {profit_margin:.4f}')"
   ]
  },
  {
   "cell_type": "markdown",
   "metadata": {},
   "source": [
    "# Zadanie \n",
    "\n",
    "- Oblicz średnią liczbę postów na użytkownika `avg_posts_per_user`\n",
    "- Oblicz średnią liczbę polubień na post `avg_likes_per_post`"
   ]
  },
  {
   "cell_type": "code",
   "execution_count": 16,
   "metadata": {},
   "outputs": [
    {
     "name": "stdout",
     "output_type": "stream",
     "text": [
      "Average number of posts per user: 6.06\n",
      "Average number of likes per post: 4.59\n"
     ]
    }
   ],
   "source": [
    "num_of_users = 9045\n",
    "num_of_posts = 54822\n",
    "num_of_likes = 251561\n",
    "\n",
    "avg_posts_per_user = num_of_posts / num_of_users\n",
    "avg_likes_per_post = num_of_likes / num_of_posts\n",
    "\n",
    "print(f\"Average number of posts per user: {avg_posts_per_user:.2f}\")\n",
    "print(f\"Average number of likes per post: {avg_likes_per_post:.2f}\")"
   ]
  },
  {
   "cell_type": "markdown",
   "metadata": {},
   "source": [
    "# Zadanie\n",
    "\n",
    "- Oblicz całkowitą liczbę stron wymaganych do wyświetlenia wszystkich postów."
   ]
  },
  {
   "cell_type": "code",
   "execution_count": 20,
   "metadata": {},
   "outputs": [
    {
     "name": "stdout",
     "output_type": "stream",
     "text": [
      "The total number of pages required to display all the posts is: 5\n"
     ]
    }
   ],
   "source": [
    "from math import ceil\n",
    "\n",
    "total_num_posts = 47\n",
    "posts_per_page = 10\n",
    "res = total_num_posts / posts_per_page\n",
    "res_ceil = ceil(res)\n",
    "\n",
    "print(\n",
    "    f\"The total number of pages required to display all the posts is: {res_ceil}\")"
   ]
  }
 ],
 "metadata": {
  "kernelspec": {
   "display_name": ".venv",
   "language": "python",
   "name": "python3"
  },
  "language_info": {
   "codemirror_mode": {
    "name": "ipython",
    "version": 3
   },
   "file_extension": ".py",
   "mimetype": "text/x-python",
   "name": "python",
   "nbconvert_exporter": "python",
   "pygments_lexer": "ipython3",
   "version": "3.12.4"
  }
 },
 "nbformat": 4,
 "nbformat_minor": 2
}
