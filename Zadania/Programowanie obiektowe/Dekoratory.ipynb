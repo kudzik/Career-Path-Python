{
 "cells": [
  {
   "cell_type": "markdown",
   "metadata": {},
   "source": [
    "# Dekoratory\n",
    "\n",
    "[Dekoratory teoria](../../Teoria/Programowanie%20obiektowe/Dekoratory.md)\n",
    "\n",
    "## Zadania"
   ]
  },
  {
   "cell_type": "code",
   "execution_count": 1,
   "metadata": {},
   "outputs": [
    {
     "name": "stdout",
     "output_type": "stream",
     "text": [
      "Przed funkcją\n",
      "Działa\n",
      "Po funkcji\n"
     ]
    }
   ],
   "source": [
    "# Zadanie 1: Prosty Dekorator\n",
    "\n",
    "# Stworzymy dekorator, który przed wywołaniem dekorowanej funkcji wypisze komunikat \"Przed funkcją\" oraz \"Po funkcji\" po jej wywołaniu.\n",
    "\n",
    "# Dekorator\n",
    "\n",
    "def prosty_dekorator(funkcja):\n",
    "    def wrapper():\n",
    "        print(\"Przed funkcją\")\n",
    "        funkcja()\n",
    "        print(\"Po funkcji\")\n",
    "    return wrapper\n",
    "\n",
    "# Funkcja do dekorowania\n",
    "\n",
    "\n",
    "@prosty_dekorator\n",
    "def dekorowana_funkcja():\n",
    "    print(\"Działa\")\n",
    "\n",
    "\n",
    "dekorowana_funkcja()"
   ]
  },
  {
   "cell_type": "code",
   "execution_count": 6,
   "metadata": {},
   "outputs": [
    {
     "name": "stdout",
     "output_type": "stream",
     "text": [
      "Executing... wrapper\n",
      "Czas wykonywania: 2.003092 sekund\n"
     ]
    }
   ],
   "source": [
    "import time\n",
    "\n",
    "\n",
    "def timer(funkcja):\n",
    "    def wrapper(sec):\n",
    "        start_time = time.time()\n",
    "        funkcja(sec)\n",
    "        end_time = time.time()\n",
    "        print(f\"Czas wykonywania: {end_time - start_time:4f} sekund\")\n",
    "    return wrapper\n",
    "\n",
    "\n",
    "@timer\n",
    "def fake_sleep(sec):\n",
    "    print(f\"Executing... {fake_sleep.__name__}\")\n",
    "    time.sleep(sec)\n",
    "\n",
    "\n",
    "# timer(fake_sleep)(3)\n",
    "\n",
    "# fake_sleep = timer(fake_sleep)\n",
    "# fake_sleep(2)\n",
    "\n",
    "fake_sleep(2)"
   ]
  }
 ],
 "metadata": {
  "kernelspec": {
   "display_name": "Python 3",
   "language": "python",
   "name": "python3"
  },
  "language_info": {
   "codemirror_mode": {
    "name": "ipython",
    "version": 3
   },
   "file_extension": ".py",
   "mimetype": "text/x-python",
   "name": "python",
   "nbconvert_exporter": "python",
   "pygments_lexer": "ipython3",
   "version": "3.12.4"
  }
 },
 "nbformat": 4,
 "nbformat_minor": 2
}
