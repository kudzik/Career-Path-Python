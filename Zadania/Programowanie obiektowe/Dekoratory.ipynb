{
 "cells": [
  {
   "cell_type": "markdown",
   "metadata": {},
   "source": [
    "# Dekoratory\n",
    "\n",
    "[Dekoratory teoria](../../Teoria/Programowanie%20obiektowe/Dekoratory.md)\n",
    "\n",
    "## Zadania"
   ]
  },
  {
   "cell_type": "code",
   "execution_count": 1,
   "metadata": {},
   "outputs": [
    {
     "name": "stdout",
     "output_type": "stream",
     "text": [
      "Przed funkcją\n",
      "Działa\n",
      "Po funkcji\n"
     ]
    }
   ],
   "source": [
    "# Zadanie 1: Prosty Dekorator\n",
    "\n",
    "# Stworzymy dekorator, który przed wywołaniem dekorowanej funkcji wypisze komunikat \"Przed funkcją\" oraz \"Po funkcji\" po jej wywołaniu.\n",
    "\n",
    "# Dekorator \n",
    "\n",
    "def prosty_dekorator(funkcja):\n",
    "    def wrapper():\n",
    "        print(\"Przed funkcją\")\n",
    "        funkcja()\n",
    "        print(\"Po funkcji\")\n",
    "    return wrapper\n",
    "\n",
    "# Funkcja do dekorowania\n",
    "\n",
    "@prosty_dekorator\n",
    "def dekorowana_funkcja():\n",
    "    print(\"Działa\")\n",
    "\n",
    "dekorowana_funkcja()"
   ]
  }
 ],
 "metadata": {
  "kernelspec": {
   "display_name": "Python 3",
   "language": "python",
   "name": "python3"
  },
  "language_info": {
   "codemirror_mode": {
    "name": "ipython",
    "version": 3
   },
   "file_extension": ".py",
   "mimetype": "text/x-python",
   "name": "python",
   "nbconvert_exporter": "python",
   "pygments_lexer": "ipython3",
   "version": "3.12.3"
  }
 },
 "nbformat": 4,
 "nbformat_minor": 2
}
