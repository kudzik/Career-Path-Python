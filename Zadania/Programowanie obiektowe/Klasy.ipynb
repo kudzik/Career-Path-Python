{
 "cells": [
  {
   "cell_type": "code",
   "execution_count": null,
   "metadata": {},
   "outputs": [],
   "source": [
    "# Zaimplementuj pustą klasę Samochod\n",
    "# wyświetl typ atrybutu słownikowego __dict__ dla klasy Samochod oraz dla instancji samochod do konsoli.\n",
    "\n",
    "class Samochod:\n",
    "    pass\n",
    "\n",
    "\n",
    "samochod = Samochod()\n",
    "\n",
    "print(type(Samochod.__dict__))\n",
    "print(type(samochod.__dict__))"
   ]
  },
  {
   "cell_type": "code",
   "execution_count": null,
   "metadata": {},
   "outputs": [],
   "source": [
    "class Phone:\n",
    "    os = \"Android\"\n",
    "    szerokosc = 500\n",
    "    wysokosc = 100\n",
    "\n",
    "# Phone.__dict__\n",
    "# Phone.__dict__.keys()\n",
    "# sorted(Phone.__dict__.keys())\n",
    "\n",
    "\n",
    "# Phone.os\n",
    "# Phone.__dict__['os']\n",
    "# getattr(Phone, 'os')\n",
    "getattr(Phone, 'cena', 'Brak')\n",
    "\n",
    "# Zmiana wartości atrybutu klasy\n",
    "\n",
    "Phone.os = 'iOS'\n",
    "setattr(Phone, 'os', 'Android')"
   ]
  },
  {
   "cell_type": "code",
   "execution_count": null,
   "metadata": {},
   "outputs": [],
   "source": [
    "# Dodawanie nowego atrybutu do klasy w locie\n",
    "\n",
    "class Phone:\n",
    "    os = \"Android\"\n",
    "    szerokosc = 500\n",
    "    wysokosc = 100\n",
    "\n",
    "\n",
    "setattr(Phone, 'status', 'New')"
   ]
  },
  {
   "cell_type": "code",
   "execution_count": null,
   "metadata": {},
   "outputs": [],
   "source": [
    "# Usuwanie atrybutu z klasy\n",
    "\n",
    "class Phone:\n",
    "    os = \"Android\"\n",
    "    szerokosc = 500\n",
    "    wysokosc = 100\n",
    "\n",
    "\n",
    "# del Phone.os\n",
    "delattr(Phone, 'os')\n",
    "\n",
    "Phone.__dict__"
   ]
  },
  {
   "cell_type": "code",
   "execution_count": null,
   "metadata": {},
   "outputs": [],
   "source": [
    "class HouseProject:\n",
    "    number_of_floors = 2\n",
    "    area = 100\n",
    "\n",
    "    def describe_project():\n",
    "        print(f\"Area: {HouseProject.area} m2\")\n",
    "        print(f\"Number of floors: {HouseProject.number_of_floors}\")\n",
    "\n",
    "\n",
    "HouseProject.describe_project()"
   ]
  },
  {
   "cell_type": "code",
   "execution_count": null,
   "metadata": {},
   "outputs": [],
   "source": [
    "from datetime import datetime\n",
    "\n",
    "\n",
    "class Photo:\n",
    "    execution_time = datetime.now().strftime('%H_%M_%S')\n",
    "    f_name = 'image_' + execution_time + '.png'\n",
    "\n",
    "\n",
    "# Photo.__dict__\n",
    "Phone.__mro__"
   ]
  },
  {
   "cell_type": "code",
   "execution_count": 35,
   "metadata": {},
   "outputs": [
    {
     "data": {
      "text/plain": [
       "{}"
      ]
     },
     "execution_count": 35,
     "metadata": {},
     "output_type": "execute_result"
    }
   ],
   "source": [
    "class Book:\n",
    "    language = 'ENG'\n",
    "\n",
    "    def show():\n",
    "        print(Book.language)\n",
    "\n",
    "\n",
    "Book.__dict__\n",
    "\n",
    "book1 = Book()\n",
    "isinstance(book1, Book)\n",
    "\n",
    "book1.__dict__"
   ]
  },
  {
   "cell_type": "code",
   "execution_count": 40,
   "metadata": {},
   "outputs": [
    {
     "name": "stdout",
     "output_type": "stream",
     "text": [
      "Język: PL, author: Mickiewicz\n",
      "Język: PL, author: Mickiewicz\n",
      "Język: PL, author: Mickiewicz\n",
      "Język: PL, author: Mickiewicz, tytuł: sonety krymski\n",
      "Język: PL, author: Mickiewicz, tytuł: Pan Tadeusz\n",
      "Język: PL, author: Mickiewicz, tytuł: Konrad Wallenrod\n"
     ]
    }
   ],
   "source": [
    "class Book:\n",
    "    language = 'PL'\n",
    "    author = \"Mickiewicz\"\n",
    "\n",
    "\n",
    "books = [Book(), Book(), Book()]\n",
    "\n",
    "for book in books:\n",
    "    print(f\"Język: {book.language}, author: {book.author}\")\n",
    "\n",
    "titles = ['sonety krymski', 'Pan Tadeusz', 'Konrad Wallenrod']\n",
    "\n",
    "for book, value in zip(books, titles):\n",
    "    book.title = value\n",
    "\n",
    "for book in books:\n",
    "    print(f\"Język: {book.language}, author: {\n",
    "          book.author}, tytuł: {book.title}\")"
   ]
  }
 ],
 "metadata": {
  "kernelspec": {
   "display_name": ".venv",
   "language": "python",
   "name": "python3"
  },
  "language_info": {
   "codemirror_mode": {
    "name": "ipython",
    "version": 3
   },
   "file_extension": ".py",
   "mimetype": "text/x-python",
   "name": "python",
   "nbconvert_exporter": "python",
   "pygments_lexer": "ipython3",
   "version": "3.12.4"
  }
 },
 "nbformat": 4,
 "nbformat_minor": 2
}
