{
 "cells": [
  {
   "cell_type": "markdown",
   "metadata": {},
   "source": [
    "# Dane tekstowe\n",
    "\n",
    "## [Args i kwargs](../Teoria/Args%20i%20kwargs.md)\n",
    "\n",
    "## Zadania"
   ]
  },
  {
   "cell_type": "code",
   "execution_count": null,
   "metadata": {},
   "outputs": [],
   "source": [
    "# Zadanie\n",
    "# Napisz funkcję suma_arg, która przyjmuje dowolną liczbę argumentów pozycyjnych i zwraca ich sumę.\n",
    "\n",
    "def suma_arg(*args):\n",
    "    return sum(args)\n",
    "\n",
    "\n",
    "print(suma_arg(1, 2, 3, 4, 5))"
   ]
  },
  {
   "cell_type": "code",
   "execution_count": null,
   "metadata": {},
   "outputs": [],
   "source": [
    "# Zadanie 2: Tworzenie słownika z argumentów nazwanych\n",
    "# Napisz funkcję stworz_slownik, która przyjmuje dowolną liczbę argumentów nazwanych i zwraca je jako słownik.\n",
    "\n",
    "def stworz_slownik(**kwargs):\n",
    "    return kwargs\n",
    "\n",
    "\n",
    "print(stworz_slownik(imie=\"Bob\", wiek=25))"
   ]
  },
  {
   "cell_type": "code",
   "execution_count": null,
   "metadata": {},
   "outputs": [],
   "source": [
    "# Zadanie 3: Znajdowanie maksymalnej wartości\n",
    "# Napisz funkcję znajdz_max, która przyjmuje dowolną liczbę argumentów pozycyjnych i zwraca największą z nich wartość.\n",
    "\n",
    "def znajdz_max(*args):\n",
    "    return max(args)\n",
    "\n",
    "\n",
    "znajdz_max(1, 2, 3, 4, 9)"
   ]
  },
  {
   "cell_type": "code",
   "execution_count": null,
   "metadata": {},
   "outputs": [],
   "source": [
    "\n",
    "\n"
   ]
  },
  {
   "cell_type": "code",
   "execution_count": 7,
   "metadata": {},
   "outputs": [
    {
     "data": {
      "text/plain": [
       "'ala,kot'"
      ]
     },
     "execution_count": 7,
     "metadata": {},
     "output_type": "execute_result"
    }
   ],
   "source": [
    "# Zadanie\n",
    "\"\"\"\n",
    "Zaimplementuj funkcję o nazwie stick(), która przyjmie dowolną liczbę argumentów i zwróci obiekt typu str \n",
    "będący sklejeniem wszystkich argumentów typu str przekazanych do funkcji znakiem , (przecinek).\n",
    "\"\"\"\n",
    "\n",
    "\n",
    "def stick(*args):\n",
    "    args = [arg for arg in args if isinstance(arg, str)]\n",
    "    result = \",\".join(args)\n",
    "    return result\n",
    "\n",
    "\n",
    "stick(\"ala\", \"kot\", 23)"
   ]
  }
 ],
 "metadata": {
  "kernelspec": {
   "display_name": ".venv",
   "language": "python",
   "name": "python3"
  },
  "language_info": {
   "codemirror_mode": {
    "name": "ipython",
    "version": 3
   },
   "file_extension": ".py",
   "mimetype": "text/x-python",
   "name": "python",
   "nbconvert_exporter": "python",
   "pygments_lexer": "ipython3",
   "version": "3.12.4"
  }
 },
 "nbformat": 4,
 "nbformat_minor": 2
}
