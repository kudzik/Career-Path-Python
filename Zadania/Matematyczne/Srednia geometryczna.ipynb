{
 "cells": [
  {
   "cell_type": "markdown",
   "metadata": {},
   "source": [
    "# Srednia geometryczna\n",
    "\n",
    "Oblicz średnią geometryczną następującego zestawu liczb: 4, 3, 4.5, 5.\n",
    "\n",
    "## Wstęp\n",
    "\n",
    "Średnia geometryczna to jedno z wielu sposobów obliczania średniej wartości zestawu liczb. Jest szczególnie użyteczna, gdy pracujemy z wielkościami, które mnożymy razem, takimi jak stopy zwrotu w finansach czy współczynniki wzrostu.\n",
    "\n",
    "## Definicja\n",
    "\n",
    "Średnia geometryczna jest obliczana jako n-ta pierwiastek z iloczynu n liczb. Matematycznie, średnia geometryczna zestawu \\(a_1, a_2, \\ldots, a_n\\) jest wyrażona jako:\n",
    "\n",
    "\\[ G = \\sqrt[n]{a_1 \\cdot a_2 \\cdot \\ldots \\cdot a_n} \\]\n",
    "\n",
    "## Krok po kroku\n",
    "\n",
    "Dla zestawu liczb \\(4, 3, 4.5, 5\\) obliczymy średnią geometryczną w następujących krokach:\n",
    "\n",
    "1. **Oblicz iloczyn wszystkich liczb:**\n",
    "\\[ 4 \\cdot 3 \\cdot 4.5 \\cdot 5 = 270 \\]\n",
    "\n",
    "2. **Oblicz pierwiastek n-tego stopnia z iloczynu, gdzie n to liczba elementów w zestawie (w naszym przypadku 4):**\n",
    "\\[ G = \\sqrt[4]{270} \\]"
   ]
  },
  {
   "cell_type": "code",
   "execution_count": 1,
   "metadata": {},
   "outputs": [
    {
     "name": "stdout",
     "output_type": "stream",
     "text": [
      "Średnia geometryczna zestawu liczb [4, 3, 4.5, 5] wynosi: 4.053600464421103\n"
     ]
    }
   ],
   "source": [
    "import math\n",
    "\n",
    "# Zestaw liczb\n",
    "numbers = [4, 3, 4.5, 5]\n",
    "\n",
    "# Iloczyn liczb\n",
    "product = math.prod(numbers)\n",
    "\n",
    "# Liczba elementów\n",
    "n = len(numbers)\n",
    "\n",
    "# Obliczanie średniej geometrycznej\n",
    "geometric_mean = product ** (1/n)\n",
    "\n",
    "print(f\"Średnia geometryczna zestawu liczb {numbers} wynosi: {geometric_mean}\")"
   ]
  },
  {
   "cell_type": "markdown",
   "metadata": {},
   "source": [
    "## Mapa Myśli\n",
    "\n",
    "![Mapa myśli](<../../assets/image/Matematyczne/Srednia geometryczna.png>)"
   ]
  }
 ],
 "metadata": {
  "kernelspec": {
   "display_name": ".venv",
   "language": "python",
   "name": "python3"
  },
  "language_info": {
   "codemirror_mode": {
    "name": "ipython",
    "version": 3
   },
   "file_extension": ".py",
   "mimetype": "text/x-python",
   "name": "python",
   "nbconvert_exporter": "python",
   "pygments_lexer": "ipython3",
   "version": "3.12.4"
  }
 },
 "nbformat": 4,
 "nbformat_minor": 2
}
