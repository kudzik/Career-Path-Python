{
 "cells": [
  {
   "cell_type": "code",
   "execution_count": 1,
   "metadata": {},
   "outputs": [
    {
     "name": "stdout",
     "output_type": "stream",
     "text": [
      "YES\n",
      "01012020_sales\n",
      ".xlsx\n"
     ]
    }
   ],
   "source": [
    "from curses.ascii import isupper\n",
    "import os\n",
    "\n",
    "filename = '01012020_sales.xlsx'\n",
    "\n",
    "nazwa_pliku, rozszerzenie = os.path.splitext(filename)\n",
    "\n",
    "if rozszerzenie == '.xlsx':\n",
    "    print('YES')\n",
    "\n",
    "print(f\"{nazwa_pliku}\\n{rozszerzenie}\")"
   ]
  },
  {
   "cell_type": "code",
   "execution_count": 2,
   "metadata": {},
   "outputs": [
    {
     "name": "stdout",
     "output_type": "stream",
     "text": [
      "YES\n"
     ]
    }
   ],
   "source": [
    "napis = 'HELLO'\n",
    "\n",
    "if napis.isupper():\n",
    "    print('YES')\n",
    "else:\n",
    "    print('NO')"
   ]
  }
 ],
 "metadata": {
  "kernelspec": {
   "display_name": ".venv",
   "language": "python",
   "name": "python3"
  },
  "language_info": {
   "codemirror_mode": {
    "name": "ipython",
    "version": 3
   },
   "file_extension": ".py",
   "mimetype": "text/x-python",
   "name": "python",
   "nbconvert_exporter": "python",
   "pygments_lexer": "ipython3",
   "version": "3.12.4"
  }
 },
 "nbformat": 4,
 "nbformat_minor": 2
}
