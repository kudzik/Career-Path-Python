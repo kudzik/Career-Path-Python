{
 "cells": [
  {
   "cell_type": "markdown",
   "metadata": {},
   "source": [
    "# Operator wycinania"
   ]
  },
  {
   "cell_type": "markdown",
   "metadata": {},
   "source": [
    "[Wycinainie](/Teoria/Operator%20wycinania.md)\n",
    "jhkjhk\n",
    "hgjkhg"
   ]
  },
  {
   "cell_type": "markdown",
   "metadata": {},
   "source": [
    "[Wprowadzenie](../../Teoria/Operator%20wycinania.md)\n",
    "sdfdsfs\n",
    "sdfsdf"
   ]
  }
 ],
 "metadata": {
  "kernelspec": {
   "display_name": ".venv",
   "language": "python",
   "name": "python3"
  },
  "language_info": {
   "name": "python",
   "version": "3.12.4"
  }
 },
 "nbformat": 4,
 "nbformat_minor": 2
}
