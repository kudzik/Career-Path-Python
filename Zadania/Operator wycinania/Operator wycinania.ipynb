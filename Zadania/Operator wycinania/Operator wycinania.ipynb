{
 "cells": [
  {
   "cell_type": "markdown",
   "metadata": {},
   "source": [
    "# Operator wycinania\n",
    "\n",
    "## Wprowadzenie"
   ]
  },
  {
   "cell_type": "markdown",
   "metadata": {},
   "source": [
    "[Operator wycinania - Wprowadzenie](../../Teoria/Operator%20wycinania.md)\n"
   ]
  },
  {
   "cell_type": "code",
   "execution_count": 21,
   "metadata": {},
   "outputs": [
    {
     "name": "stdout",
     "output_type": "stream",
     "text": [
      "file extension of the file 'view.jpg' is: jpg\n"
     ]
    }
   ],
   "source": [
    "# Zadanie\n",
    "# Korzystając z operatora wycinania uzyskaj rozszerzenie pliku\n",
    "\n",
    "filename = 'view.jpg'\n",
    "print(f\"file extension of the file 'view.jpg' is: {filename[-3:]}\")"
   ]
  },
  {
   "cell_type": "code",
   "execution_count": 22,
   "metadata": {},
   "outputs": [
    {
     "name": "stdout",
     "output_type": "stream",
     "text": [
      "The extracted code \"PKV-89415-PLN\" is: PKVPLN\n"
     ]
    }
   ],
   "source": [
    "# Zadanie\n",
    "# Uzyskaj 3 pierwsze i 3 ostatnie znaki\n",
    "\n",
    "input_text = 'PKV-89415-PLN'\n",
    "print(\n",
    "    f'The extracted code \"PKV-89415-PLN\" is: {input_text[:3]}{input_text[-3:]}')"
   ]
  },
  {
   "cell_type": "code",
   "execution_count": 24,
   "metadata": {},
   "outputs": [
    {
     "name": "stdout",
     "output_type": "stream",
     "text": [
      "The found number is: 37\n"
     ]
    }
   ],
   "source": [
    "# Zadanie\n",
    "# Usuń spacje i przedstaw jako liczbę dziesiętną\n",
    "\n",
    "string = '1 0 0 1 0 1'\n",
    "binary_number = string.replace(\" \", \"\")\n",
    "decimal_number = int(binary_number, 2)\n",
    "\n",
    "print(f\"The found number is: {decimal_number}\")"
   ]
  },
  {
   "cell_type": "code",
   "execution_count": 33,
   "metadata": {},
   "outputs": [
    {
     "name": "stdout",
     "output_type": "stream",
     "text": [
      "nohtyP\n"
     ]
    }
   ],
   "source": [
    "# Zadanie\n",
    "# Odwróć kolejność znaków w poniższym ciągu znaków:\n",
    "\n",
    "input_text = \"Python\"\n",
    "reverse_text = input_text[::-1]\n",
    "print(f\"{reverse_text}\")"
   ]
  },
  {
   "cell_type": "code",
   "execution_count": 36,
   "metadata": {},
   "outputs": [
    {
     "data": {
      "text/plain": [
       "range(1, 10)"
      ]
     },
     "execution_count": 36,
     "metadata": {},
     "output_type": "execute_result"
    }
   ],
   "source": [
    "# Zadanie\n",
    "\n",
    "number_list = range(1, 10)\n",
    "\n",
    "number_list"
   ]
  }
 ],
 "metadata": {
  "kernelspec": {
   "display_name": ".venv",
   "language": "python",
   "name": "python3"
  },
  "language_info": {
   "codemirror_mode": {
    "name": "ipython",
    "version": 3
   },
   "file_extension": ".py",
   "mimetype": "text/x-python",
   "name": "python",
   "nbconvert_exporter": "python",
   "pygments_lexer": "ipython3",
   "version": "3.12.4"
  }
 },
 "nbformat": 4,
 "nbformat_minor": 2
}
