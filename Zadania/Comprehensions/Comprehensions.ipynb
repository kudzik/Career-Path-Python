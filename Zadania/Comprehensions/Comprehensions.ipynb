{
 "cells": [
  {
   "cell_type": "markdown",
   "metadata": {},
   "source": [
    "# Comprehensions\n",
    "\n",
    "## [Comprehensions Teoria](../../Teoria/Comprehensions/)\n",
    "\n",
    "## Zadania"
   ]
  },
  {
   "cell_type": "code",
   "execution_count": 2,
   "metadata": {},
   "outputs": [
    {
     "name": "stdout",
     "output_type": "stream",
     "text": [
      "Original list: [0, 1, 2, 3, 4, 5, 6, 7, 8, 9]\n",
      "First three elements: [0, 1, 2]\n",
      "Last three elements: [7, 8, 9]\n"
     ]
    }
   ],
   "source": [
    "# Zadanie\n",
    "\"\"\"\n",
    "Napisz program, który zdefiniuje listę liczb całkowitych jednocyfrowych, a następnie wyodrębni \n",
    "pierwsze trzy i ostatnie trzy elementy tej listy za pomocą operatora wycinania.\n",
    "\"\"\"\n",
    "\n",
    "num = [x for x in range(10)]\n",
    "print(f\"Original list: {num}\")\n",
    "print(f\"First three elements: {num[:3]}\")\n",
    "print(f\"Last three elements: {num[-3:]}\")"
   ]
  },
  {
   "cell_type": "code",
   "execution_count": 7,
   "metadata": {},
   "outputs": [
    {
     "name": "stdout",
     "output_type": "stream",
     "text": [
      "Bob Johnson\n"
     ]
    }
   ],
   "source": [
    "# Zadanie\n",
    "\n",
    "\"\"\"\n",
    "Potrzebujesz wyodrębnić imię i nazwisko osoby ze stopniem 'Sergent' w celu wygenerowania raportu. Skorzystaj tylko z operatora wycinania\n",
    "\"\"\"\n",
    "\n",
    "personnel = [\n",
    "    'John Smith, Private First Class',\n",
    "    'Jane Doe, Captain',\n",
    "    'Bob Johnson, Sergeant'\n",
    "]\n",
    "\n",
    "print(personnel[2][:11])"
   ]
  },
  {
   "cell_type": "code",
   "execution_count": 7,
   "metadata": {},
   "outputs": [
    {
     "name": "stdout",
     "output_type": "stream",
     "text": [
      "Average stock price for the first week: $105.84\n",
      "Average stock price for the last week: $133.64\n"
     ]
    }
   ],
   "source": [
    "# Zadanie\n",
    "\"\"\"\n",
    "Masz listę cen i musisz obliczyć średnią cenę dla pierwszego i ostatniego tygodnia miesiąca. \n",
    "Pierwszy tydzień to pierwsze 5 elementów listy, a ostatni tydzień to ostatnie 5 elementów listy\n",
    "\"\"\"\n",
    "\n",
    "stock_prices = [\n",
    "    102.3,\n",
    "    103.4,\n",
    "    105.6,\n",
    "    108.2,\n",
    "    109.7,\n",
    "    112.4,\n",
    "    113.6,\n",
    "    115.2,\n",
    "    116.8,\n",
    "    119.1,\n",
    "    121.3,\n",
    "    122.5,\n",
    "    124.7,\n",
    "    126.1,\n",
    "    127.4,\n",
    "    129.2,\n",
    "    130.4,\n",
    "    132.6,\n",
    "    133.8,\n",
    "    135.1,\n",
    "    136.3,\n",
    "]\n",
    "\n",
    "first_week_average = sum(stock_prices[:5]) / len(stock_prices[:5])\n",
    "last_week_average = sum(stock_prices[-5:]) / len(stock_prices[-5:])\n",
    "\n",
    "print(f\"Average stock price for the first week: ${first_week_average:.2f}\")\n",
    "print(f\"Average stock price for the last week: ${last_week_average:.2f}\")"
   ]
  },
  {
   "cell_type": "code",
   "execution_count": 2,
   "metadata": {},
   "outputs": [
    {
     "name": "stdout",
     "output_type": "stream",
     "text": [
      "length = 10\n",
      "width = 5\n",
      "height = 2\n"
     ]
    }
   ],
   "source": [
    "# Zadanie\n",
    "\n",
    "dimensions = '10x5x2'\n",
    "\n",
    "# Wynik\n",
    "\"\"\"\n",
    "length = 10\n",
    "width = 5\n",
    "height = 2\n",
    "\"\"\"\n",
    "\n",
    "wynik = dimensions.split('x')\n",
    "\n",
    "length = wynik[0]\n",
    "width = wynik[1]\n",
    "height = wynik[2]\n",
    "\n",
    "print(f\"length = {length}\")\n",
    "print(f\"width = {width}\")\n",
    "print(f\"height = {height}\")"
   ]
  },
  {
   "cell_type": "code",
   "execution_count": 14,
   "metadata": {},
   "outputs": [
    {
     "name": "stdout",
     "output_type": "stream",
     "text": [
      "length = 55.0\n",
      "width = 22.0\n",
      "height = 1.8\n"
     ]
    }
   ],
   "source": [
    "# Zadanie\n",
    "\n",
    "\"\"\"\n",
    "Twoim zadaniem jest wyodrębnienie wymiarów dla części na pierwszej \n",
    "pozycji w drugiej zagnieżdżonej liście poniższej listy parts za pomocą operatora wycinania:\n",
    "\n",
    "length = 55.0\n",
    "width = 22.0\n",
    "height = 1.8\n",
    "\"\"\"\n",
    "\n",
    "parts = [\n",
    "    ['50x20x1.5', '25x10x1.0'],\n",
    "    ['55x22x1.8', '30x15x1.2'],\n",
    "    ['60x24x2.0', '35x20x1.5'],\n",
    "]\n",
    "\n",
    "specific_parts = parts[1][0]\n",
    "res_join = specific_parts.split('x')\n",
    "\n",
    "print(f\"length = {float(res_join[0])}\")\n",
    "print(f\"width = {float(res_join[1])}\")\n",
    "print(f\"height = {float(res_join[2])}\")"
   ]
  }
 ],
 "metadata": {
  "kernelspec": {
   "display_name": ".venv",
   "language": "python",
   "name": "python3"
  },
  "language_info": {
   "codemirror_mode": {
    "name": "ipython",
    "version": 3
   },
   "file_extension": ".py",
   "mimetype": "text/x-python",
   "name": "python",
   "nbconvert_exporter": "python",
   "pygments_lexer": "ipython3",
   "version": "3.12.4"
  }
 },
 "nbformat": 4,
 "nbformat_minor": 2
}
